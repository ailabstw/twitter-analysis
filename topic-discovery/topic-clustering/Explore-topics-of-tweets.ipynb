{
 "cells": [
  {
   "cell_type": "code",
   "execution_count": 7,
   "id": "07bbb617-674d-4ddf-9315-0046ee5cb2ba",
   "metadata": {},
   "outputs": [],
   "source": [
    "import re\n",
    "import pandas as pd\n",
    "from sklearn.feature_extraction.text import TfidfVectorizer\n",
    "from topic_clustering.cluster import GraphCluster"
   ]
  },
  {
   "cell_type": "markdown",
   "id": "c6f5d5a3-a19e-4588-8335-58de8498807f",
   "metadata": {},
   "source": [
    "## Prepare the toy-dataset"
   ]
  },
  {
   "cell_type": "code",
   "execution_count": 8,
   "id": "5153b1c0-7717-4aa7-9b38-5c07249b3b8c",
   "metadata": {
    "tags": []
   },
   "outputs": [
    {
     "data": {
      "text/html": [
       "<div>\n",
       "<style scoped>\n",
       "    .dataframe tbody tr th:only-of-type {\n",
       "        vertical-align: middle;\n",
       "    }\n",
       "\n",
       "    .dataframe tbody tr th {\n",
       "        vertical-align: top;\n",
       "    }\n",
       "\n",
       "    .dataframe thead th {\n",
       "        text-align: right;\n",
       "    }\n",
       "</style>\n",
       "<table border=\"1\" class=\"dataframe\">\n",
       "  <thead>\n",
       "    <tr style=\"text-align: right;\">\n",
       "      <th></th>\n",
       "      <th>tweet_id</th>\n",
       "      <th>url</th>\n",
       "      <th>author</th>\n",
       "      <th>publish_time</th>\n",
       "      <th>content</th>\n",
       "    </tr>\n",
       "  </thead>\n",
       "  <tbody>\n",
       "    <tr>\n",
       "      <th>0</th>\n",
       "      <td>1492891431379341324</td>\n",
       "      <td>https://twitter.com/peterpobjecky/status/14928...</td>\n",
       "      <td>{\"user_id\": 771820890, \"name\": \"peter pobjecky...</td>\n",
       "      <td>2022-02-14 00:00:28</td>\n",
       "      <td>@CorkyBottle @GeromanAT @YouTube Those nations...</td>\n",
       "    </tr>\n",
       "  </tbody>\n",
       "</table>\n",
       "</div>"
      ],
      "text/plain": [
       "              tweet_id                                                url  \\\n",
       "0  1492891431379341324  https://twitter.com/peterpobjecky/status/14928...   \n",
       "\n",
       "                                              author         publish_time  \\\n",
       "0  {\"user_id\": 771820890, \"name\": \"peter pobjecky...  2022-02-14 00:00:28   \n",
       "\n",
       "                                             content  \n",
       "0  @CorkyBottle @GeromanAT @YouTube Those nations...  "
      ]
     },
     "execution_count": 8,
     "metadata": {},
     "output_type": "execute_result"
    }
   ],
   "source": [
    "df = pd.read_csv(\"dataset/toy_dataset.csv\")\n",
    "df.head(1)"
   ]
  },
  {
   "cell_type": "code",
   "execution_count": 9,
   "id": "a7088a9b-8dbc-4e4e-b878-a4af7f6aa4d7",
   "metadata": {},
   "outputs": [],
   "source": [
    "url_pattern = re.compile(\"(https?:\\/\\/(?:www\\.|(?!www))[a-zA-Z0-9][a-zA-Z0-9-]+[a-zA-Z0-9]\\.[^\\s]{2,}|www\\.[a-zA-Z0-9][a-zA-Z0-9-]+[a-zA-Z0-9]\\.[^\\s]{2,}|https?:\\/\\/(?:www\\.|(?!www))[a-zA-Z0-9]+\\.[^\\s]{2,}|www\\.[a-zA-Z0-9]+\\.[^\\s]{2,})\")\n",
    "at_pattern = re.compile(\"@[^ ]+\")\n",
    "hash_pattern = re.compile(\"#[^ ]+\")\n",
    "\n",
    "pattern_to_token = {\n",
    "    url_pattern: \"\",\n",
    "    at_pattern: \"\",\n",
    "    hash_pattern: \"\"\n",
    "}\n",
    "\n",
    "def clean_text(text,):\n",
    "    for pattern, token in pattern_to_token.items():\n",
    "        text = re.sub(pattern, token, text)\n",
    "    return text"
   ]
  },
  {
   "cell_type": "code",
   "execution_count": 10,
   "id": "4025d956-c476-498d-9ac7-5d6089ba0f3d",
   "metadata": {},
   "outputs": [],
   "source": [
    "text_column = \"content\"\n",
    "cleaned_texts = df[text_column].astype(str).apply(clean_text)"
   ]
  },
  {
   "cell_type": "markdown",
   "id": "2a8cf0c1-a03a-42c5-85a6-3e4bf3ddb665",
   "metadata": {},
   "source": [
    "## TFIDF Vectorization"
   ]
  },
  {
   "cell_type": "code",
   "execution_count": 11,
   "id": "2f6cf7b0-e920-4931-95e8-46e8ac27ad68",
   "metadata": {},
   "outputs": [],
   "source": [
    "corpus = set(cleaned_texts)\n",
    "tfidf_vectorizer = TfidfVectorizer(stop_words='english', min_df=10,\n",
    "                                   lowercase=True, max_features=200000)\n",
    "tfidf_vectorizer.fit(corpus)\n",
    "vectors = tfidf_vectorizer.transform(cleaned_texts)"
   ]
  },
  {
   "cell_type": "markdown",
   "id": "d288e6ff-1d93-482e-88b6-3cc582ccdf62",
   "metadata": {},
   "source": [
    "## Clustering"
   ]
  },
  {
   "cell_type": "code",
   "execution_count": 12,
   "id": "e0a21ed2-92f8-4138-b8c9-5e540b1dc3e2",
   "metadata": {},
   "outputs": [
    {
     "name": "stdout",
     "output_type": "stream",
     "text": [
      "CPU times: user 18 s, sys: 521 ms, total: 18.5 s\n",
      "Wall time: 18.5 s\n"
     ]
    }
   ],
   "source": [
    "%%time\n",
    "graph_cluster = GraphCluster()\n",
    "corr_threshold = 0.6\n",
    "group_to_ids = graph_cluster.cluster(vectors, min_corr=corr_threshold)"
   ]
  },
  {
   "cell_type": "code",
   "execution_count": 13,
   "id": "9dbb05f7-1744-40b8-ae98-db26ec99a7d2",
   "metadata": {},
   "outputs": [],
   "source": [
    "id_to_groups = [-1 for _ in range(df.shape[0])]\n",
    "for g_id, article_ids in group_to_ids.items():\n",
    "    for a_id in article_ids:\n",
    "        id_to_groups[a_id] = g_id\n",
    "df['group_id'] = id_to_groups"
   ]
  },
  {
   "cell_type": "code",
   "execution_count": 14,
   "id": "0edd764b-feba-4fa6-ba6b-9237f099f988",
   "metadata": {},
   "outputs": [
    {
     "data": {
      "text/plain": [
       "1       290\n",
       "2        66\n",
       "3        61\n",
       "4        60\n",
       "5        56\n",
       "       ... \n",
       "4847      1\n",
       "749       1\n",
       "2796      1\n",
       "4843      1\n",
       "2047      1\n",
       "Name: group_id, Length: 5051, dtype: int64"
      ]
     },
     "execution_count": 14,
     "metadata": {},
     "output_type": "execute_result"
    }
   ],
   "source": [
    "df.group_id.value_counts()"
   ]
  },
  {
   "cell_type": "code",
   "execution_count": 15,
   "id": "8656fe7b-bf44-4386-9d05-d165e3593c41",
   "metadata": {},
   "outputs": [],
   "source": [
    "def explore_group(df, group_id, column, size=5):\n",
    "    rows = df[df.group_id == group_id][column].values[:size]\n",
    "    for r in rows:\n",
    "        print(r)\n",
    "        print(\"-\" * 30)"
   ]
  },
  {
   "cell_type": "code",
   "execution_count": 16,
   "id": "2314f678-f46f-4406-97d1-442abdcc95d6",
   "metadata": {},
   "outputs": [
    {
     "name": "stdout",
     "output_type": "stream",
     "text": [
      "Ukraine soldiers capture a Russian commander, His confession shocks the World (Video) \n",
      "https://t.co/JpXc05NSCK\n",
      "The Russian\n",
      "The Taliban#putinisawarcriminal\n",
      "#Ukraineunderattack\n",
      "#freeukraine\n",
      "#StopRussianAggresion\n",
      "Cyprus#nuclearwar\n",
      "#PutinWarCriminal\n",
      "Belarus\n",
      "#AbolishNato\n",
      "------------------------------\n",
      "Ukraine soldiers capture a Russian commander, His confession shocks the World (Video) \n",
      "https://t.co/JpXc05NSCK\n",
      "\n",
      "Ukrainian \n",
      "Putin \n",
      "#Worldwar3 \n",
      "#WWIII \n",
      "NATO \n",
      "Taiwan \n",
      "America \n",
      "China \n",
      "Trump \n",
      "Biden\n",
      "#nuclearwar\n",
      "#PutinWarCriminal\n",
      "Belarus\n",
      "#AbolishNato \n",
      "NATO Alliance \n",
      "Slovenia\n",
      "------------------------------\n",
      "Ukraine soldiers capture a Russian commander, His confession shocks the World (Video) \n",
      "https://t.co/pnRodR3ZXR\n",
      "\n",
      "Ukrainian \n",
      "Putin \n",
      "#Worldwar3 \n",
      "#WWIII \n",
      "NATO \n",
      "Taiwan \n",
      "America \n",
      "China \n",
      "Trump \n",
      "Biden\n",
      "#nuclearwar\n",
      "#PutinWarCriminal\n",
      "Belarus\n",
      "#AbolishNato \n",
      "NATO Alliance \n",
      "Slovenia\n",
      "------------------------------\n",
      "Ukraine soldiers capture a Russian commander, His confession shocks the World (Video) \n",
      "https://t.co/v7njU12Zen\n",
      "\n",
      "Ukrainian \n",
      "Putin \n",
      "#Worldwar3 \n",
      "#WWIII \n",
      "NATO \n",
      "Taiwan \n",
      "America \n",
      "China \n",
      "Trump \n",
      "Biden\n",
      "#nuclearwar\n",
      "#PutinWarCriminal\n",
      "Belarus\n",
      "#AbolishNato \n",
      "NATO Alliance \n",
      "Slovenia\n",
      "------------------------------\n",
      "Ukraine soldiers capture a Russian commander, His confession shocks the World (Video) \n",
      "https://t.co/v7njU12Zen\n",
      "#stopthewar\n",
      "The Ukraine\n",
      "Germany\n",
      "Italy\n",
      "Yemen\n",
      "Hungary\n",
      "Yes putin\n",
      "#NATOINUKRAINENOW\n",
      "Where is NATO\n",
      "But NATO\n",
      "#ukraineRussia\n",
      "#ukrainewar\n",
      "------------------------------\n"
     ]
    }
   ],
   "source": [
    "explore_group(df, group_id=1, column=text_column)"
   ]
  },
  {
   "cell_type": "code",
   "execution_count": 17,
   "id": "03d0a67c-09ae-4cb0-b45c-2d2e547e7964",
   "metadata": {},
   "outputs": [
    {
     "name": "stdout",
     "output_type": "stream",
     "text": [
      "@manni_1986 @unapologeticAnk He is the trudeau of Ukraine. Bloody wokes\n",
      "------------------------------\n",
      "@TheRevAl Nobody, not even Ukraine is buying this theatre!!!! https://t.co/5R5F3Hkv5b\n",
      "------------------------------\n",
      "@SpiroAgnewGhost He extorted Ukraine, which resulted in his first impeachment.\n",
      "------------------------------\n",
      "@Honeybee0427 @justinamash You do though in Ukraine?\n",
      "------------------------------\n",
      "Ukraine 🇺🇦\n",
      "------------------------------\n"
     ]
    }
   ],
   "source": [
    "explore_group(df, group_id=2, column=text_column,)"
   ]
  },
  {
   "cell_type": "code",
   "execution_count": 18,
   "id": "36f90cdf-0525-4d7d-9538-52354796a71b",
   "metadata": {},
   "outputs": [
    {
     "name": "stdout",
     "output_type": "stream",
     "text": [
      "@taken9000 @NewZi00484428 @VaushV Fuck you and fuck ukraine, that country was made by Russia and they are all Russians on cocaine from neo nazi propaganda that you subscribe to.\n",
      "------------------------------\n",
      "@CBSNews Well, fuck you due to Ukraine.\n",
      "------------------------------\n",
      "@DeereIsGod @colethemanyt fuck ukraine\n",
      "------------------------------\n",
      "@colethemanyt fuck ukraine\n",
      "------------------------------\n",
      "@noahmrcd19 @colethemanyt fuck ukraine\n",
      "------------------------------\n"
     ]
    }
   ],
   "source": [
    "explore_group(df, group_id=3, column=text_column,)"
   ]
  },
  {
   "cell_type": "code",
   "execution_count": 19,
   "id": "58fedf12-ba72-461e-885b-812ccb04389e",
   "metadata": {},
   "outputs": [
    {
     "name": "stdout",
     "output_type": "stream",
     "text": [
      "I stand with Ukraine 🇺🇦\n",
      "------------------------------\n",
      "@Reuters I stand with Ukraine ✊\n",
      "------------------------------\n",
      "@Reuters I stand with Ukraine 🇺🇦✊\n",
      "------------------------------\n",
      "@Reuters I stand with Ukraine 🇺🇦✊\n",
      "------------------------------\n",
      "@ZelenskyyUa @EmmanuelMacron @OlafScholz I stand with Ukraine 🇺🇦✊\n",
      "------------------------------\n"
     ]
    }
   ],
   "source": [
    "explore_group(df, group_id=4, column=text_column,)"
   ]
  },
  {
   "cell_type": "code",
   "execution_count": 20,
   "id": "cd02b2c8-2ac1-4c91-bf5c-b06cc73b54c5",
   "metadata": {},
   "outputs": [
    {
     "name": "stdout",
     "output_type": "stream",
     "text": [
      "@MiddleEastMnt If you support Ukraine But not Palestine Iraq Syria Afghanistan Somalia Libya Kashmir and Iraq.\n",
      "If you condemn Russia But not Israel and US.\n",
      "Then congratulations mate, you are on the highest tier of hypocrisy. \n",
      "\n",
      "#UkraineRussiaWar #RussiaUkraineCrisis\n",
      "#Ukraine #RussianUkrainianWar https://t.co/T6MBxxokT5\n",
      "------------------------------\n",
      "@Quicktake If you support Ukraine But not Palestine Iraq Syria Afghanistan Somalia Libya Kashmir and Iraq.\n",
      "If you condemn Russia But not Israel and US.\n",
      "Then congratulations mate, you are on the highest tier of hypocrisy. \n",
      "\n",
      "#UkraineRussiaWar #RussiaUkraineCrisis\n",
      "#Ukraine #Russia https://t.co/Pi4icUoOM7\n",
      "------------------------------\n",
      "@Reuters If you support Ukraine But not Palestine Iraq Syria Afghanistan Somalia Libya Kashmir and Iraq.\n",
      "If you condemn Russia But not Israel and US.\n",
      "Then congratulations mate, you are on the highest tier of hypocrisy. \n",
      "\n",
      "#UkraineRussiaWar #RussiaUkraineCrisis\n",
      "#Ukraine #Russia https://t.co/EhDpOBKMqb\n",
      "------------------------------\n",
      "@yarahawari If you support Ukraine But not Palestine Iraq Syria Afghanistan Somalia Libya Kashmir and Iraq.\n",
      "If you condemn Russia But not Israel and US.\n",
      "Then congratulations mate, you are on the highest tier of hypocrisy. \n",
      "\n",
      "#UkraineRussiaWar #RussiaUkraineCrisis\n",
      "#Ukraine #Russia https://t.co/m62VUHenyb\n",
      "------------------------------\n",
      "#DoubleStandards\n",
      "\n",
      "“if you’re in favor of Ukraine but not of Palestine,Kashmir, Lebanon, Afghanistan, Somalia, Syria, Libya &amp; Iraq. if you condemn Russia, but not Israel,India or the United States,Congratulations mate, you've reached the pinnacle of hypocrisy”.\n",
      "\n",
      "#UkraineRussiaWar\n",
      "------------------------------\n"
     ]
    }
   ],
   "source": [
    "explore_group(df, group_id=5, column=text_column,)"
   ]
  },
  {
   "cell_type": "markdown",
   "id": "c2d1bff5-cd40-49b5-9ecf-3aac160d2711",
   "metadata": {},
   "source": [
    "## Output the result"
   ]
  },
  {
   "cell_type": "code",
   "execution_count": 25,
   "id": "557f4181-c1e9-458c-ba1c-177989af2c0b",
   "metadata": {},
   "outputs": [],
   "source": [
    "df.to_csv(\"outputs/tweets_with_group_ids.csv\", index=False)"
   ]
  }
 ],
 "metadata": {
  "kernelspec": {
   "display_name": "Python 3",
   "language": "python",
   "name": "python3"
  },
  "language_info": {
   "codemirror_mode": {
    "name": "ipython",
    "version": 3
   },
   "file_extension": ".py",
   "mimetype": "text/x-python",
   "name": "python",
   "nbconvert_exporter": "python",
   "pygments_lexer": "ipython3",
   "version": "3.8.5"
  }
 },
 "nbformat": 4,
 "nbformat_minor": 5
}
