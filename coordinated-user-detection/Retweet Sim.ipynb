{
 "cells": [
  {
   "cell_type": "code",
   "execution_count": 1,
   "id": "f9938acc-bc72-49e3-b3ca-5b12bb729343",
   "metadata": {},
   "outputs": [],
   "source": [
    "import json\n",
    "import numpy as np\n",
    "import pandas as pd\n",
    "from sklearn.preprocessing import normalize\n",
    "from sklearn.metrics.pairwise import cosine_similarity"
   ]
  },
  {
   "cell_type": "code",
   "execution_count": 2,
   "id": "135414da-0b51-4a4b-89be-a41beaed11b8",
   "metadata": {},
   "outputs": [],
   "source": [
    "retweet_df = pd.read_json(\"dataset/user_timeline.json\")"
   ]
  },
  {
   "cell_type": "code",
   "execution_count": 3,
   "id": "ad5ae185-036c-477b-981d-a1f6a54cbef3",
   "metadata": {
    "tags": []
   },
   "outputs": [],
   "source": [
    "retweet_df['author'] = retweet_df['author'].apply(lambda v: (json.loads(v, strict=False)) if v else None)\n",
    "retweet_df['origin_tweet'] = retweet_df['origin_tweet'].apply(lambda v: (json.loads(v, strict=False)) if v else None)\n",
    "\n",
    "retweet_df = retweet_df.loc[retweet_df['content'].apply(lambda v: v.startswith('RT'))]\n",
    "retweet_df = retweet_df.loc[~(retweet_df['origin_tweet'].isna())]\n",
    "retweet_df = retweet_df.reset_index(drop=True)"
   ]
  },
  {
   "cell_type": "code",
   "execution_count": 4,
   "id": "f3fd8880-a2e8-4327-a153-0a4266af1d93",
   "metadata": {
    "tags": []
   },
   "outputs": [],
   "source": [
    "df = {\n",
    "    'tweet_id':[],\n",
    "    'publish_time':[],\n",
    "    'author_id':[],\n",
    "    'author_name':[],\n",
    "    'retweet_id':[],\n",
    "    'retweet_name':[],\n",
    "}\n",
    "\n",
    "for tweet_id, publish_time, author, origin_tweet in zip(retweet_df['tweet_id'], retweet_df['publish_time'], retweet_df['author'], retweet_df['origin_tweet']):\n",
    "    df['author_id'].append(origin_tweet['author']['user_id'])\n",
    "    df['author_name'].append(origin_tweet['author']['name'])\n",
    "    df['retweet_id'].append(author['user_id'])\n",
    "    df['retweet_name'].append(author['name'])\n",
    "    df['tweet_id'].append(tweet_id)\n",
    "    df['publish_time'].append(publish_time)\n",
    "df = pd.DataFrame(df)\n",
    "df = df.astype({'author_id':'int', 'retweet_id':'int'})"
   ]
  },
  {
   "cell_type": "code",
   "execution_count": 5,
   "id": "29b24c43-8239-46db-af50-7e00e4632f02",
   "metadata": {},
   "outputs": [],
   "source": [
    "# Filter for users who have retweet count > the given threshold\n",
    "retweet_count_threshold = 10\n",
    "retweet_distribution_df = df.groupby('retweet_id')['retweet_id'].count().to_frame('count').reset_index()\n",
    "target_df = df.loc[df['retweet_id'].isin(retweet_distribution_df.loc[retweet_distribution_df['count'] > retweet_count_threshold, 'retweet_id'].tolist())]"
   ]
  },
  {
   "cell_type": "code",
   "execution_count": 6,
   "id": "ed8963e3-25ff-4aaf-b412-c9b7656b4f2f",
   "metadata": {
    "tags": []
   },
   "outputs": [],
   "source": [
    "# Map author and retweet to code\n",
    "retweet_author_df = target_df.groupby('retweet_id')['author_id'].value_counts().to_frame('count').reset_index()\n",
    "\n",
    "unique_author_id_list = list(set(retweet_author_df['author_id'].tolist()))\n",
    "unique_retweet_id_list = list(set(retweet_author_df['retweet_id'].tolist()))\n",
    "\n",
    "author_to_code = {j: i for i, j in enumerate(unique_author_id_list)}\n",
    "retweet_to_code = {j: i for i, j in enumerate(unique_retweet_id_list)}\n",
    "code_to_retweet = {i: j for i, j in enumerate(unique_retweet_id_list)}\n",
    "\n",
    "retweet_author_df['author_code'] = retweet_author_df['author_id'].apply(lambda v: author_to_code[v])\n",
    "retweet_author_df['retweet_code'] = retweet_author_df['retweet_id'].apply(lambda v: retweet_to_code[v])"
   ]
  },
  {
   "cell_type": "code",
   "execution_count": 7,
   "id": "5bd6fe93-dccc-43c5-96d8-a01e5b3a90f5",
   "metadata": {},
   "outputs": [],
   "source": [
    "retweet_author_array = np.zeros((retweet_author_df['retweet_code'].nunique(), retweet_author_df['author_code'].nunique()))\n",
    "\n",
    "for author, retweet, count in zip(retweet_author_df['author_code'], retweet_author_df['retweet_code'], retweet_author_df['count']):\n",
    "    retweet_author_array[retweet, author] = count"
   ]
  },
  {
   "cell_type": "code",
   "execution_count": 8,
   "id": "1e41ca1d-7d6e-4f69-a537-28efb0ec2dc2",
   "metadata": {},
   "outputs": [],
   "source": [
    "# Normalize the array\n",
    "norm_retweet_author_array = normalize(retweet_author_array, axis=1, norm='l1')"
   ]
  },
  {
   "cell_type": "code",
   "execution_count": 9,
   "id": "e8a1f20f-da45-499d-bdaf-d10b04607ed1",
   "metadata": {},
   "outputs": [],
   "source": [
    "# Calculate the retweet author similarity\n",
    "retweet_author_sim = cosine_similarity(norm_retweet_author_array)"
   ]
  },
  {
   "cell_type": "code",
   "execution_count": 13,
   "id": "05ebe10a-7590-4b80-9496-ec9dc70b79c7",
   "metadata": {
    "tags": []
   },
   "outputs": [],
   "source": [
    "# Create high author similarity dataframe\n",
    "retweet_author_sim_df = {\n",
    "    'user_i':[],\n",
    "    'user_j':[],\n",
    "    'sim':[],\n",
    "}\n",
    "\n",
    "for useri in range(len(retweet_author_sim)):\n",
    "    for userj in range(len(retweet_author_sim)):\n",
    "        if useri != userj:\n",
    "            retweet_author_sim_df['user_i'].append(code_to_retweet[useri])\n",
    "            retweet_author_sim_df['user_j'].append(code_to_retweet[userj])\n",
    "            retweet_author_sim_df['sim'].append(retweet_author_sim[useri, userj])\n",
    "\n",
    "retweet_author_sim_df = pd.DataFrame(retweet_author_sim_df)"
   ]
  },
  {
   "cell_type": "code",
   "execution_count": 11,
   "id": "7715810c-7763-44bd-9910-80d0b016273a",
   "metadata": {},
   "outputs": [
    {
     "data": {
      "text/html": [
       "<div>\n",
       "<style scoped>\n",
       "    .dataframe tbody tr th:only-of-type {\n",
       "        vertical-align: middle;\n",
       "    }\n",
       "\n",
       "    .dataframe tbody tr th {\n",
       "        vertical-align: top;\n",
       "    }\n",
       "\n",
       "    .dataframe thead th {\n",
       "        text-align: right;\n",
       "    }\n",
       "</style>\n",
       "<table border=\"1\" class=\"dataframe\">\n",
       "  <thead>\n",
       "    <tr style=\"text-align: right;\">\n",
       "      <th></th>\n",
       "      <th>user_i</th>\n",
       "      <th>user_j</th>\n",
       "      <th>sim</th>\n",
       "    </tr>\n",
       "  </thead>\n",
       "  <tbody>\n",
       "    <tr>\n",
       "      <th>0</th>\n",
       "      <td>702433901394993152</td>\n",
       "      <td>1463549953</td>\n",
       "      <td>0.000000</td>\n",
       "    </tr>\n",
       "    <tr>\n",
       "      <th>1</th>\n",
       "      <td>702433901394993152</td>\n",
       "      <td>705766540952657922</td>\n",
       "      <td>0.000000</td>\n",
       "    </tr>\n",
       "    <tr>\n",
       "      <th>2</th>\n",
       "      <td>702433901394993152</td>\n",
       "      <td>706172170301407233</td>\n",
       "      <td>0.077968</td>\n",
       "    </tr>\n",
       "    <tr>\n",
       "      <th>3</th>\n",
       "      <td>702433901394993152</td>\n",
       "      <td>707910187248525312</td>\n",
       "      <td>0.000000</td>\n",
       "    </tr>\n",
       "    <tr>\n",
       "      <th>4</th>\n",
       "      <td>702433901394993152</td>\n",
       "      <td>710179147956559873</td>\n",
       "      <td>0.000000</td>\n",
       "    </tr>\n",
       "  </tbody>\n",
       "</table>\n",
       "</div>"
      ],
      "text/plain": [
       "               user_i              user_j       sim\n",
       "0  702433901394993152          1463549953  0.000000\n",
       "1  702433901394993152  705766540952657922  0.000000\n",
       "2  702433901394993152  706172170301407233  0.077968\n",
       "3  702433901394993152  707910187248525312  0.000000\n",
       "4  702433901394993152  710179147956559873  0.000000"
      ]
     },
     "execution_count": 11,
     "metadata": {},
     "output_type": "execute_result"
    }
   ],
   "source": [
    "retweet_author_sim_df.head()"
   ]
  },
  {
   "cell_type": "code",
   "execution_count": 14,
   "id": "daa06d1d-0b45-4049-96c3-ab6a923e3e88",
   "metadata": {},
   "outputs": [],
   "source": [
    "retweet_author_sim_df.to_csv(\"outputs/retweet_author_sim_df.csv\", index=False)"
   ]
  }
 ],
 "metadata": {
  "kernelspec": {
   "display_name": "Python 3",
   "language": "python",
   "name": "python3"
  },
  "language_info": {
   "codemirror_mode": {
    "name": "ipython",
    "version": 3
   },
   "file_extension": ".py",
   "mimetype": "text/x-python",
   "name": "python",
   "nbconvert_exporter": "python",
   "pygments_lexer": "ipython3",
   "version": "3.8.5"
  }
 },
 "nbformat": 4,
 "nbformat_minor": 5
}
