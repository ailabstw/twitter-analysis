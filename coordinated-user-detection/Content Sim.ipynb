{
 "cells": [
  {
   "cell_type": "code",
   "execution_count": 1,
   "id": "48edac5f-4801-417b-9319-48f035b3139b",
   "metadata": {},
   "outputs": [],
   "source": [
    "import re\n",
    "import logging\n",
    "import pandas as pd\n",
    "\n",
    "from collections import defaultdict\n",
    "from tqdm.notebook import tqdm\n",
    "\n",
    "from sklearn.feature_extraction.text import TfidfVectorizer\n",
    "from sklearn.metrics.pairwise import cosine_similarity\n",
    "from sklearn.cluster import MiniBatchKMeans\n",
    "from sklearn.pipeline import make_pipeline\n",
    "from sklearn.preprocessing import Normalizer\n",
    "from sklearn.decomposition import TruncatedSVD"
   ]
  },
  {
   "cell_type": "code",
   "execution_count": 2,
   "id": "96e0496f-f715-401e-be8d-970df43baec8",
   "metadata": {
    "tags": []
   },
   "outputs": [],
   "source": [
    "data = pd.read_json(\"dataset/user_timeline.json\")"
   ]
  },
  {
   "cell_type": "code",
   "execution_count": 3,
   "id": "5e747f98-2790-4bd4-a515-7b6685846600",
   "metadata": {},
   "outputs": [],
   "source": [
    "tweets = data.loc[data['content'].apply(lambda v: not v.startswith('RT'))]"
   ]
  },
  {
   "cell_type": "code",
   "execution_count": 4,
   "id": "bd5c8e4b-60e5-4a57-afdd-f82ff97dabf0",
   "metadata": {
    "tags": []
   },
   "outputs": [
    {
     "name": "stderr",
     "output_type": "stream",
     "text": [
      "<ipython-input-4-6fbc5710341a>:8: SettingWithCopyWarning: \n",
      "A value is trying to be set on a copy of a slice from a DataFrame.\n",
      "Try using .loc[row_indexer,col_indexer] = value instead\n",
      "\n",
      "See the caveats in the documentation: https://pandas.pydata.org/pandas-docs/stable/user_guide/indexing.html#returning-a-view-versus-a-copy\n",
      "  tweets['content'] = tweets['content'].apply(lambda v: remove_username_links(v))\n",
      "<ipython-input-4-6fbc5710341a>:9: SettingWithCopyWarning: \n",
      "A value is trying to be set on a copy of a slice from a DataFrame.\n",
      "Try using .loc[row_indexer,col_indexer] = value instead\n",
      "\n",
      "See the caveats in the documentation: https://pandas.pydata.org/pandas-docs/stable/user_guide/indexing.html#returning-a-view-versus-a-copy\n",
      "  tweets['content'] = tweets['content'].replace('\\n','', regex=True)\n",
      "<ipython-input-4-6fbc5710341a>:10: SettingWithCopyWarning: \n",
      "A value is trying to be set on a copy of a slice from a DataFrame.\n",
      "Try using .loc[row_indexer,col_indexer] = value instead\n",
      "\n",
      "See the caveats in the documentation: https://pandas.pydata.org/pandas-docs/stable/user_guide/indexing.html#returning-a-view-versus-a-copy\n",
      "  tweets['content'] = tweets['content'].replace('\\r','', regex=True)\n"
     ]
    }
   ],
   "source": [
    "# Remove @, urls, and #\n",
    "def remove_username_links(tweet):\n",
    "    tweet = re.sub('@[^\\s]+','',tweet)\n",
    "    tweet = re.sub('http[^\\s]+','',tweet)\n",
    "    tweet = re.sub('#[^\\s]+','',tweet)\n",
    "    return tweet\n",
    "\n",
    "tweets['content'] = tweets['content'].apply(lambda v: remove_username_links(v))\n",
    "tweets['content'] = tweets['content'].replace('\\n','', regex=True)\n",
    "tweets['content'] = tweets['content'].replace('\\r','', regex=True)\n",
    "\n",
    "tweets = tweets.loc[~(tweets['content'].apply(lambda v: len(v) == 0))]"
   ]
  },
  {
   "cell_type": "code",
   "execution_count": 6,
   "id": "833b78a3-982d-4af8-8f6e-f531cc4bf303",
   "metadata": {},
   "outputs": [],
   "source": [
    "# Filter for users with tweet count > the given threshold\n",
    "tweet_count_threshold = 10\n",
    "\n",
    "tweet_distribution_df = tweets.groupby('author_id')['tweet_id'].count().to_frame('count').reset_index()\n",
    "tweets = tweets.loc[tweets['author_id'].isin(tweet_distribution_df.loc[tweet_distribution_df['count'] > tweet_count_threshold, 'author_id'].tolist())]\n",
    "tweets = tweets.reset_index(drop=True)"
   ]
  },
  {
   "cell_type": "code",
   "execution_count": 7,
   "id": "25e45075-8753-497a-bbf8-0c318e48000d",
   "metadata": {},
   "outputs": [
    {
     "data": {
      "application/vnd.jupyter.widget-view+json": {
       "model_id": "8a4558afb5ad49d5850f217faa527abb",
       "version_major": 2,
       "version_minor": 0
      },
      "text/plain": [
       "HBox(children=(HTML(value=''), FloatProgress(value=1.0, bar_style='info', layout=Layout(width='20px'), max=1.0…"
      ]
     },
     "metadata": {},
     "output_type": "display_data"
    },
    {
     "name": "stdout",
     "output_type": "stream",
     "text": [
      "\n"
     ]
    }
   ],
   "source": [
    "author_to_contents = defaultdict(list)\n",
    "for author, content in tqdm(zip(tweets.author_id, tweets.content)):\n",
    "    author_to_contents[author].append(content)"
   ]
  },
  {
   "cell_type": "code",
   "execution_count": 8,
   "id": "bb57c7ee-0432-4861-89ce-ca9594d5042c",
   "metadata": {},
   "outputs": [],
   "source": [
    "author_to_vectors = {}"
   ]
  },
  {
   "cell_type": "code",
   "execution_count": 9,
   "id": "7d33acbd-7d2b-4618-b036-c6794ac9eb9e",
   "metadata": {},
   "outputs": [],
   "source": [
    "tfidf_vectorizer = TfidfVectorizer(max_features=200000)\n",
    "tfidf_vectorizer.fit(tweets.content)\n",
    "vectors = tfidf_vectorizer.transform(tweets.content)\n",
    "\n",
    "svd = TruncatedSVD(1024)\n",
    "normalizer = Normalizer(copy=False)\n",
    "svd = make_pipeline(svd, normalizer)\n",
    "vectors_low_dim = svd.fit_transform(vectors)"
   ]
  },
  {
   "cell_type": "code",
   "execution_count": 10,
   "id": "e3af7ac7-6b38-4084-aa9b-d02fd1241d1c",
   "metadata": {
    "tags": []
   },
   "outputs": [],
   "source": [
    "# Hierarical Grouping\n",
    "\n",
    "class GraphCluster(object):\n",
    "\n",
    "    def cluster(self, embeddings, top_k=64, min_corr=0.9):\n",
    "        sim_matrix = cosine_similarity(embeddings)\n",
    "        pruned_matrix, num_edges = self._prune_matrix(sim_matrix, top_k, min_corr)\n",
    "        if num_edges != 0:\n",
    "            try:\n",
    "                communities = self._detect_community(pruned_matrix)\n",
    "            except:\n",
    "                res = {i: [i] for i in range(len(embeddings))}\n",
    "                return res\n",
    "        else:\n",
    "            res = {i: [i] for i in range(len(embeddings))}\n",
    "            return res\n",
    "        res = self._to_standard_grouping_format(communities, len(embeddings))\n",
    "        return res\n",
    "            \n",
    "    def _prune_matrix(self, sim_matrix, top_k, min_corr):\n",
    "        pruned_matrix = {}\n",
    "        num_edges = 0\n",
    "        for node_i, row in enumerate(sim_matrix):\n",
    "            neighbors = {}\n",
    "            corrs = [(node, v) for node, v in enumerate(row)]\n",
    "            for node, corr in corrs:\n",
    "                if corr > min_corr:\n",
    "                    neighbors[node] = corr\n",
    "                    num_edges += 1\n",
    "            pruned_matrix[node_i] = neighbors\n",
    "        return pruned_matrix, num_edges\n",
    "    \n",
    "    def _detect_community(self, pruned_matrix):\n",
    "        im = infomap.Infomap(\"--two-level --verbose --silent\")\n",
    "        for node_i in pruned_matrix:\n",
    "            for node_j in pruned_matrix[node_i]:\n",
    "                im.add_link(node_i, node_j)\n",
    "        im.run()\n",
    "        return im\n",
    "    \n",
    "    def _to_standard_grouping_format(self, communities, size):\n",
    "        \"\"\"Format: Dict{Key=str: Group_ID, Values=List: Embedding_IDs}\"\"\"\n",
    "        res = defaultdict(list)\n",
    "        node_in_group = {i: False for i in range(size)}\n",
    "        max_module_id = 0\n",
    "        \n",
    "        for node_id, module_id in communities.modules:\n",
    "            res[module_id].append(node_id)\n",
    "            node_in_group[node_id] = True\n",
    "            max_module_id = max(max_module_id, module_id)\n",
    "\n",
    "        # Note, infomap would drop the communities whose size is one.\n",
    "        # so we have to append it mannually.\n",
    "        for node_id, in_group in node_in_group.items():\n",
    "            if not in_group:\n",
    "                max_module_id += 1\n",
    "                res[max_module_id] = [node_id]\n",
    "        return res\n",
    "\n",
    "class BucketCluster(object):        \n",
    "    \n",
    "    def __init__(self, num_bucket_in_node=10, max_depth=16,\n",
    "                 bucket_size_for_graph_cluster=100, edge_sim_threshold=0.5, \n",
    "                 scalable_cluster_method=MiniBatchKMeans):\n",
    "        self.num_bucket_in_node = num_bucket_in_node\n",
    "        self.max_depth = max_depth\n",
    "        self.bucket_size_for_graph_cluster = bucket_size_for_graph_cluster\n",
    "        self.edge_sim_threshold = edge_sim_threshold\n",
    "        self.scalable_cluster_method = scalable_cluster_method\n",
    "        self.depth = 0\n",
    "        self.logger = logging.getLogger()\n",
    "        self.logger.setLevel(logging.INFO)\n",
    "        \n",
    "        self.scalable_cluster_method = scalable_cluster_method # it should follow the interface as KMeans.\n",
    "    \n",
    "    def iterate(self, embeddings_idx, embeddings_values):\n",
    "        # bind the embedding_idx with embeddings\n",
    "        embeddings = [(idx, val) for idx, val in zip(embeddings_idx, embeddings_values)]\n",
    "        group_mapping = self._iterate(embeddings)\n",
    "        result = self._traverse_group_mapping(group_mapping)\n",
    "        return result\n",
    "    \n",
    "    def _iterate(self, embeddings):\n",
    "        self.logger.info(f\"In depth: {self.depth}. Grouping on embeddings size: {len(embeddings)}, gonna divide it into {self.num_bucket_in_node} buckets.\")\n",
    "        group_mapping = self._scalable_cluster(embeddings)\n",
    "        for group_id in group_mapping:\n",
    "            subset = self._get_subset(embeddings, group_mapping[group_id])\n",
    "            bucket_size = len(group_mapping[group_id])           \n",
    "            \n",
    "            # For a small enough subset,\n",
    "            # we can get the mean-sim and determine how to merge it using graph cluster.\n",
    "            if bucket_size < self.bucket_size_for_graph_cluster:\n",
    "                group_mapping[group_id] = self._graph_cluster(subset)\n",
    "                        \n",
    "            # Otherwise, we have to split the node and keep divide it to small enough buckets.\n",
    "            elif self.depth < self.max_depth:\n",
    "                self.depth += 1\n",
    "                group_mapping[group_id] = self._iterate(subset)\n",
    "                self.depth -= 1\n",
    "            else:\n",
    "            # Meet the max-depth, early-stopping.\n",
    "                group_mapping[group_id] = self._graph_cluster(subset)\n",
    "        return group_mapping\n",
    "    \n",
    "    def _traverse_group_mapping(self, group_mapping):\n",
    "        result = {}\n",
    "        stack = [group_mapping]\n",
    "        \n",
    "        while len(stack):\n",
    "            current_node = stack.pop()\n",
    "            for group_values in current_node.values():\n",
    "                if type(group_values) == list:\n",
    "                    result[len(result)] = group_values\n",
    "                else:\n",
    "                    stack.append(group_values)\n",
    "        return result\n",
    "    \n",
    "    def _scalable_cluster(self, embeddings):\n",
    "        e_values = [v[1] for v in embeddings]\n",
    "        \n",
    "        # apply sklearn clustering.\n",
    "        cluster = self.scalable_cluster_method(n_clusters=self.num_bucket_in_node)\n",
    "        res = cluster.fit_predict(e_values)\n",
    "        \n",
    "        # format the result.\n",
    "        group_mapping = self._format_sklearn_clustering_results(res)\n",
    "        return group_mapping\n",
    "    \n",
    "    def _graph_cluster(self, embeddings):\n",
    "        e_values = [v[1] for v in embeddings]\n",
    "        e_indices = [v[0] for v in embeddings]\n",
    "        graph_cluster = GraphCluster()\n",
    "        res = graph_cluster.cluster(e_values, min_corr=self.edge_sim_threshold)\n",
    "        \n",
    "        # align the subset_id to e_indices\n",
    "        aligned_res = {}\n",
    "        for group_id, subset_ids in res.items():\n",
    "            aligned_res[group_id] = [e_indices[v] for v in subset_ids]\n",
    "        return aligned_res\n",
    "           \n",
    "    def _get_subset(self, embeddings, indices):\n",
    "        return [embeddings[idx] for idx in indices]   \n",
    "    \n",
    "    def _format_sklearn_clustering_results(self, sklearn_cluster_output):\n",
    "        \"\"\"\n",
    "        Args:\n",
    "            - sklearn_cluster_output: list[int], \n",
    "        Return\n",
    "            - group_mapping: dict{key=group_id: str, val=group_values: list[int]}\n",
    "        \"\"\"\n",
    "        group_mapping = defaultdict(list)\n",
    "        for embedding_id, group_id in enumerate(sklearn_cluster_output):\n",
    "            group_mapping[group_id].append(embedding_id)\n",
    "        return group_mapping"
   ]
  },
  {
   "cell_type": "code",
   "execution_count": 11,
   "id": "c231ef0c-621f-4f11-b5d4-88805629cd80",
   "metadata": {},
   "outputs": [],
   "source": [
    "edge_sim_threshold = 0.7\n",
    "vector_ids = [i for i in range(vectors.shape[0])]\n",
    "bucket_cluster = BucketCluster(\n",
    "    edge_sim_threshold=edge_sim_threshold) \n",
    "res = bucket_cluster.iterate(vector_ids, vectors_low_dim)"
   ]
  },
  {
   "cell_type": "code",
   "execution_count": 12,
   "id": "8a0fa052-befd-4097-87d4-8ebb9afc0df2",
   "metadata": {},
   "outputs": [],
   "source": [
    "# drop the group with size 1.\n",
    "valid_groups = {k: v for k, v in res.items() if len(v) > 1}"
   ]
  },
  {
   "cell_type": "code",
   "execution_count": 13,
   "id": "3072f5c6-31ff-4a67-9b12-7eb9b9de9019",
   "metadata": {},
   "outputs": [
    {
     "data": {
      "application/vnd.jupyter.widget-view+json": {
       "model_id": "dec9034bc9f24463b140bcfe656705ff",
       "version_major": 2,
       "version_minor": 0
      },
      "text/plain": [
       "HBox(children=(HTML(value=''), FloatProgress(value=1.0, bar_style='info', layout=Layout(width='20px'), max=1.0…"
      ]
     },
     "metadata": {},
     "output_type": "display_data"
    },
    {
     "name": "stdout",
     "output_type": "stream",
     "text": [
      "\n"
     ]
    }
   ],
   "source": [
    "author_ids = tweets.author_id.tolist()\n",
    "author_corr = defaultdict(lambda: defaultdict(int))\n",
    "\n",
    "for g_id, group in tqdm(valid_groups.items()):\n",
    "    a_ids = list({author_ids[idx] for idx in group})\n",
    "    for i in range(len(a_ids)):\n",
    "        for j in range(i+1, len(a_ids)):\n",
    "            ai, aj = a_ids[i], a_ids[j]\n",
    "            author_corr[ai][aj] += 1\n",
    "            author_corr[aj][ai] += 1"
   ]
  },
  {
   "cell_type": "code",
   "execution_count": 14,
   "id": "c2afac7d-9f0b-411c-8a08-34de34b07cf6",
   "metadata": {},
   "outputs": [
    {
     "data": {
      "application/vnd.jupyter.widget-view+json": {
       "model_id": "99bd004c0e594e0881f3ba0cef16867e",
       "version_major": 2,
       "version_minor": 0
      },
      "text/plain": [
       "HBox(children=(HTML(value=''), FloatProgress(value=1.0, bar_style='info', layout=Layout(width='20px'), max=1.0…"
      ]
     },
     "metadata": {},
     "output_type": "display_data"
    },
    {
     "name": "stdout",
     "output_type": "stream",
     "text": [
      "\n"
     ]
    }
   ],
   "source": [
    "# build the linking for each group\n",
    "article_to_article = defaultdict(lambda: defaultdict(float))\n",
    "for g_id, articles in tqdm(valid_groups.items()):\n",
    "    for i in range(len(articles)):\n",
    "        for j in range(i+1, len(articles)):\n",
    "            ai = articles[i]\n",
    "            aj = articles[j]\n",
    "            sim = cosine_similarity([vectors_low_dim[ai]], [vectors_low_dim[aj]])[0][0]\n",
    "            article_to_article[ai][aj] = article_to_article[aj][ai] = sim"
   ]
  },
  {
   "cell_type": "code",
   "execution_count": 15,
   "id": "bd37cde1-0306-4cc6-aa04-2af7ce2800ef",
   "metadata": {},
   "outputs": [
    {
     "data": {
      "application/vnd.jupyter.widget-view+json": {
       "model_id": "860862c8b5df4724a8b4cb31ab0e3c86",
       "version_major": 2,
       "version_minor": 0
      },
      "text/plain": [
       "HBox(children=(HTML(value=''), FloatProgress(value=1.0, bar_style='info', layout=Layout(width='20px'), max=1.0…"
      ]
     },
     "metadata": {},
     "output_type": "display_data"
    },
    {
     "name": "stdout",
     "output_type": "stream",
     "text": [
      "\n"
     ]
    }
   ],
   "source": [
    "# restrict the search space.\n",
    "authors = tweets.author_id.tolist()\n",
    "author_valid_article_intersection = defaultdict(lambda: defaultdict(list))\n",
    "for ai in tqdm(article_to_article):\n",
    "    for aj in article_to_article[ai]:\n",
    "        author_i = authors[ai]\n",
    "        author_j = authors[aj]\n",
    "        author_valid_article_intersection[author_i][author_j].append((ai, aj))\n",
    "        author_valid_article_intersection[author_j][author_i].append((ai, aj))"
   ]
  },
  {
   "cell_type": "code",
   "execution_count": 16,
   "id": "743ae76b-2346-4050-a0c3-94f4b37cb9fc",
   "metadata": {},
   "outputs": [],
   "source": [
    "author_text_sims = defaultdict(dict)\n",
    "unique_authors = tweets.author_id.unique().tolist()"
   ]
  },
  {
   "cell_type": "code",
   "execution_count": 17,
   "id": "0273f7a8-d0f0-45f0-ae44-133b3e155a27",
   "metadata": {
    "tags": []
   },
   "outputs": [],
   "source": [
    "def get_article_sim_by_author(author_i, author_j, norm, article_set):\n",
    "    sim = 0\n",
    "    if author_i in author_valid_article_intersection:\n",
    "        if author_j in author_valid_article_intersection[author_i]:\n",
    "            intersection = author_valid_article_intersection[author_i][author_j]\n",
    "            ix_sim = defaultdict(float)\n",
    "            for ix, iy in intersection:\n",
    "                if ix in article_set:\n",
    "                    ix_sim[ix] = max(ix_sim[ix], article_to_article[ix][iy])\n",
    "            for v in ix_sim.values():\n",
    "                sim += v\n",
    "    sim /= norm\n",
    "    return sim"
   ]
  },
  {
   "cell_type": "code",
   "execution_count": 18,
   "id": "3563c1f1-163e-448f-9599-6708d6de7dcd",
   "metadata": {},
   "outputs": [],
   "source": [
    "author_to_article_id = defaultdict(set)\n",
    "for idx, author_id in enumerate(tweets.author_id.values):\n",
    "    author_to_article_id[author_id].add(idx)"
   ]
  },
  {
   "cell_type": "code",
   "execution_count": 19,
   "id": "a89b388d-99e3-48ea-b05e-b113afdae51c",
   "metadata": {
    "tags": []
   },
   "outputs": [
    {
     "data": {
      "application/vnd.jupyter.widget-view+json": {
       "model_id": "06c53a0ea43b4b0d92c26dd97685e6d9",
       "version_major": 2,
       "version_minor": 0
      },
      "text/plain": [
       "HBox(children=(HTML(value=''), FloatProgress(value=0.0, max=500.0), HTML(value='')))"
      ]
     },
     "metadata": {},
     "output_type": "display_data"
    },
    {
     "name": "stdout",
     "output_type": "stream",
     "text": [
      "\n"
     ]
    }
   ],
   "source": [
    "for i in tqdm(range(len(unique_authors))):\n",
    "    for j in range(i+1, len(unique_authors)):\n",
    "        ai, aj = unique_authors[i], unique_authors[j]\n",
    "        ai_norm, aj_norm = len(author_to_article_id[ai]), len(author_to_article_id[aj])\n",
    "        ai_sim = get_article_sim_by_author(ai, aj, ai_norm, author_to_article_id[ai])\n",
    "        aj_sim = get_article_sim_by_author(ai, aj, aj_norm, author_to_article_id[aj])\n",
    "        author_text_sims[ai][aj] = min(ai_sim, aj_sim)        "
   ]
  },
  {
   "cell_type": "code",
   "execution_count": 20,
   "id": "7887155f-7654-4dad-8a25-ba010621fbb1",
   "metadata": {},
   "outputs": [],
   "source": [
    "author_text_sims = dict(author_text_sims)"
   ]
  },
  {
   "cell_type": "code",
   "execution_count": 25,
   "id": "f89a6eb4-59cc-4cbf-b524-15620991618e",
   "metadata": {},
   "outputs": [],
   "source": [
    "high_content_sim_07_df = {\n",
    "    'user_i':[],\n",
    "    'user_j':[],\n",
    "    'sim':[],\n",
    "}\n",
    "\n",
    "for key in author_text_sims.keys():\n",
    "    high_content_sim_07_df['user_i'] += [key] * len(author_text_sims[key])\n",
    "    for k, v in author_text_sims[key].items():\n",
    "        high_content_sim_07_df['user_j'].append(k)\n",
    "        high_content_sim_07_df['sim'].append(v)\n",
    "\n",
    "high_content_sim_07_df = pd.DataFrame(high_content_sim_07_df)"
   ]
  },
  {
   "cell_type": "code",
   "execution_count": 26,
   "id": "f7c4c9b8-5285-412d-b533-24671bb56908",
   "metadata": {},
   "outputs": [
    {
     "data": {
      "text/html": [
       "<div>\n",
       "<style scoped>\n",
       "    .dataframe tbody tr th:only-of-type {\n",
       "        vertical-align: middle;\n",
       "    }\n",
       "\n",
       "    .dataframe tbody tr th {\n",
       "        vertical-align: top;\n",
       "    }\n",
       "\n",
       "    .dataframe thead th {\n",
       "        text-align: right;\n",
       "    }\n",
       "</style>\n",
       "<table border=\"1\" class=\"dataframe\">\n",
       "  <thead>\n",
       "    <tr style=\"text-align: right;\">\n",
       "      <th></th>\n",
       "      <th>user_i</th>\n",
       "      <th>user_j</th>\n",
       "      <th>sim</th>\n",
       "    </tr>\n",
       "  </thead>\n",
       "  <tbody>\n",
       "    <tr>\n",
       "      <th>0</th>\n",
       "      <td>1326668886876549120</td>\n",
       "      <td>1447046931587424256</td>\n",
       "      <td>0.0</td>\n",
       "    </tr>\n",
       "    <tr>\n",
       "      <th>1</th>\n",
       "      <td>1326668886876549120</td>\n",
       "      <td>1001784714</td>\n",
       "      <td>0.0</td>\n",
       "    </tr>\n",
       "    <tr>\n",
       "      <th>2</th>\n",
       "      <td>1326668886876549120</td>\n",
       "      <td>106687417</td>\n",
       "      <td>0.0</td>\n",
       "    </tr>\n",
       "    <tr>\n",
       "      <th>3</th>\n",
       "      <td>1326668886876549120</td>\n",
       "      <td>1425185208706469888</td>\n",
       "      <td>0.0</td>\n",
       "    </tr>\n",
       "    <tr>\n",
       "      <th>4</th>\n",
       "      <td>1326668886876549120</td>\n",
       "      <td>737292332</td>\n",
       "      <td>0.0</td>\n",
       "    </tr>\n",
       "  </tbody>\n",
       "</table>\n",
       "</div>"
      ],
      "text/plain": [
       "                user_i               user_j  sim\n",
       "0  1326668886876549120  1447046931587424256  0.0\n",
       "1  1326668886876549120           1001784714  0.0\n",
       "2  1326668886876549120            106687417  0.0\n",
       "3  1326668886876549120  1425185208706469888  0.0\n",
       "4  1326668886876549120            737292332  0.0"
      ]
     },
     "execution_count": 26,
     "metadata": {},
     "output_type": "execute_result"
    }
   ],
   "source": [
    "high_content_sim_07_df.head()"
   ]
  },
  {
   "cell_type": "code",
   "execution_count": 27,
   "id": "8c5c7a2d-8dda-414c-aa6f-66e9c6afc3bc",
   "metadata": {},
   "outputs": [],
   "source": [
    "high_content_sim_07_df.to_csv(\"outputs/high_content_sim_07_df.csv\", index=False)"
   ]
  }
 ],
 "metadata": {
  "kernelspec": {
   "display_name": "Python 3",
   "language": "python",
   "name": "python3"
  },
  "language_info": {
   "codemirror_mode": {
    "name": "ipython",
    "version": 3
   },
   "file_extension": ".py",
   "mimetype": "text/x-python",
   "name": "python",
   "nbconvert_exporter": "python",
   "pygments_lexer": "ipython3",
   "version": "3.8.5"
  }
 },
 "nbformat": 4,
 "nbformat_minor": 5
}
